{
 "cells": [
  {
   "cell_type": "code",
   "execution_count": 6,
   "id": "8d239188-0c08-4e0a-be92-eabea4086611",
   "metadata": {},
   "outputs": [
    {
     "name": "stdout",
     "output_type": "stream",
     "text": [
      "Python executable: C:\\Users\\Bhabani Sankar Lenka\\miniconda3\\envs\\rakesh\\python.exe\n",
      "Current working directory: C:\\Users\\Bhabani Sankar Lenka\\Documents\\Projects\\rakesh-portfolio\n",
      "Files/folders here: ['.git', '.gitignore', 'learning', 'LICENSE', 'notebooks', 'projects', 'python_basics', 'README.md', 'requirements.txt', 'sample_data.csv', 'tatus']\n"
     ]
    }
   ],
   "source": [
    "# Cell 1 — check environment & working folder\n",
    "import os, sys\n",
    "print(\"Python executable:\", sys.executable)\n",
    "print(\"Current working directory:\", os.getcwd())\n",
    "print(\"Files/folders here:\", os.listdir('.'))\n"
   ]
  },
  {
   "cell_type": "code",
   "execution_count": 7,
   "id": "259af92a-1f3b-4dc8-a2fd-5ebabf981a88",
   "metadata": {},
   "outputs": [
    {
     "name": "stdout",
     "output_type": "stream",
     "text": [
      "Changed working dir to: C:\\Users\\Bhabani Sankar Lenka\\Documents\\Projects\\rakesh-portfolio\n",
      "Now files/folders: ['.git', '.gitignore', 'learning', 'LICENSE', 'notebooks', 'projects', 'python_basics', 'README.md', 'requirements.txt', 'sample_data.csv', 'tatus']\n"
     ]
    }
   ],
   "source": [
    "# Cell 2 — set working directory to repo root (run only if needed)\n",
    "repo_root = r\"C:\\Users\\Bhabani Sankar Lenka\\Documents\\Projects\\rakesh-portfolio\"\n",
    "import os\n",
    "os.chdir(repo_root)\n",
    "print(\"Changed working dir to:\", os.getcwd())\n",
    "print(\"Now files/folders:\", os.listdir('.'))\n"
   ]
  },
  {
   "cell_type": "code",
   "execution_count": 8,
   "id": "55ea0af6-195c-4aae-ad3a-472434a91708",
   "metadata": {},
   "outputs": [
    {
     "name": "stdout",
     "output_type": "stream",
     "text": [
      "notebooks folder exists: True\n",
      "notebooks contents: ['.ipynb_checkpoints', 'pandas_basics.ipynb', 'README.md']\n"
     ]
    }
   ],
   "source": [
    "# Cell 3 — ensure notebooks folder exists\n",
    "import os\n",
    "os.makedirs(\"notebooks\", exist_ok=True)\n",
    "print(\"notebooks folder exists:\", os.path.isdir(\"notebooks\"))\n",
    "print(\"notebooks contents:\", os.listdir(\"notebooks\"))\n"
   ]
  },
  {
   "cell_type": "code",
   "execution_count": 9,
   "id": "9bbec3d3-0613-4571-be2f-2005c8d8b011",
   "metadata": {},
   "outputs": [
    {
     "data": {
      "text/html": [
       "<div>\n",
       "<style scoped>\n",
       "    .dataframe tbody tr th:only-of-type {\n",
       "        vertical-align: middle;\n",
       "    }\n",
       "\n",
       "    .dataframe tbody tr th {\n",
       "        vertical-align: top;\n",
       "    }\n",
       "\n",
       "    .dataframe thead th {\n",
       "        text-align: right;\n",
       "    }\n",
       "</style>\n",
       "<table border=\"1\" class=\"dataframe\">\n",
       "  <thead>\n",
       "    <tr style=\"text-align: right;\">\n",
       "      <th></th>\n",
       "      <th>Name</th>\n",
       "      <th>Age</th>\n",
       "      <th>Skill</th>\n",
       "    </tr>\n",
       "  </thead>\n",
       "  <tbody>\n",
       "    <tr>\n",
       "      <th>0</th>\n",
       "      <td>Rakesh</td>\n",
       "      <td>18</td>\n",
       "      <td>Python</td>\n",
       "    </tr>\n",
       "    <tr>\n",
       "      <th>1</th>\n",
       "      <td>Vyuk</td>\n",
       "      <td>25</td>\n",
       "      <td>AI Strategy</td>\n",
       "    </tr>\n",
       "    <tr>\n",
       "      <th>2</th>\n",
       "      <td>Vegeta</td>\n",
       "      <td>35</td>\n",
       "      <td>Saiyan Pride</td>\n",
       "    </tr>\n",
       "  </tbody>\n",
       "</table>\n",
       "</div>"
      ],
      "text/plain": [
       "     Name  Age         Skill\n",
       "0  Rakesh   18        Python\n",
       "1    Vyuk   25   AI Strategy\n",
       "2  Vegeta   35  Saiyan Pride"
      ]
     },
     "execution_count": 9,
     "metadata": {},
     "output_type": "execute_result"
    }
   ],
   "source": [
    "# Cell 4a — import pandas and create demo dataframe\n",
    "import pandas as pd\n",
    "data = {\n",
    "    \"Name\": [\"Rakesh\", \"Vyuk\", \"Vegeta\"],\n",
    "    \"Age\": [18, 25, 35],\n",
    "    \"Skill\": [\"Python\", \"AI Strategy\", \"Saiyan Pride\"]\n",
    "}\n",
    "df = pd.DataFrame(data)\n",
    "df  # Jupyter will display this\n"
   ]
  },
  {
   "cell_type": "code",
   "execution_count": 10,
   "id": "efbf3649-46ef-4d3b-86b6-5adcd638b89e",
   "metadata": {},
   "outputs": [
    {
     "name": "stdout",
     "output_type": "stream",
     "text": [
      "Saved CSV to: notebooks\\sample_data.csv\n"
     ]
    },
    {
     "data": {
      "text/html": [
       "<div>\n",
       "<style scoped>\n",
       "    .dataframe tbody tr th:only-of-type {\n",
       "        vertical-align: middle;\n",
       "    }\n",
       "\n",
       "    .dataframe tbody tr th {\n",
       "        vertical-align: top;\n",
       "    }\n",
       "\n",
       "    .dataframe thead th {\n",
       "        text-align: right;\n",
       "    }\n",
       "</style>\n",
       "<table border=\"1\" class=\"dataframe\">\n",
       "  <thead>\n",
       "    <tr style=\"text-align: right;\">\n",
       "      <th></th>\n",
       "      <th>Name</th>\n",
       "      <th>Age</th>\n",
       "      <th>Skill</th>\n",
       "    </tr>\n",
       "  </thead>\n",
       "  <tbody>\n",
       "    <tr>\n",
       "      <th>0</th>\n",
       "      <td>Rakesh</td>\n",
       "      <td>18</td>\n",
       "      <td>Python</td>\n",
       "    </tr>\n",
       "    <tr>\n",
       "      <th>1</th>\n",
       "      <td>Vyuk</td>\n",
       "      <td>25</td>\n",
       "      <td>AI Strategy</td>\n",
       "    </tr>\n",
       "    <tr>\n",
       "      <th>2</th>\n",
       "      <td>Vegeta</td>\n",
       "      <td>35</td>\n",
       "      <td>Saiyan Pride</td>\n",
       "    </tr>\n",
       "  </tbody>\n",
       "</table>\n",
       "</div>"
      ],
      "text/plain": [
       "     Name  Age         Skill\n",
       "0  Rakesh   18        Python\n",
       "1    Vyuk   25   AI Strategy\n",
       "2  Vegeta   35  Saiyan Pride"
      ]
     },
     "execution_count": 10,
     "metadata": {},
     "output_type": "execute_result"
    }
   ],
   "source": [
    "# Cell 4b — save dataframe to notebooks/sample_data.csv and read it back\n",
    "csv_path = os.path.join(\"notebooks\", \"sample_data.csv\")\n",
    "df.to_csv(csv_path, index=False)\n",
    "print(\"Saved CSV to:\", csv_path)\n",
    "\n",
    "df_loaded = pd.read_csv(csv_path)\n",
    "df_loaded  # display the reloaded file to confirm\n"
   ]
  },
  {
   "cell_type": "code",
   "execution_count": 11,
   "id": "f5a56579-b543-4c32-a0a1-0a3af68c212a",
   "metadata": {},
   "outputs": [
    {
     "name": "stdout",
     "output_type": "stream",
     "text": [
      "Daily log updated.\n"
     ]
    }
   ],
   "source": [
    "# Cell 5 — append daily log entry\n",
    "log_line = \"2025-09-04: Created pandas_basics.ipynb and sample_data.csv; learned saving/loading CSV with pandas.\\n\"\n",
    "with open(\"learning/daily_log.md\", \"a\", encoding=\"utf-8\") as f:\n",
    "    f.write(log_line)\n",
    "print(\"Daily log updated.\")\n"
   ]
  },
  {
   "cell_type": "code",
   "execution_count": null,
   "id": "5ba3f9f1-7811-413f-a6af-7b6d2e0a3827",
   "metadata": {},
   "outputs": [],
   "source": []
  }
 ],
 "metadata": {
  "kernelspec": {
   "display_name": "Python 3 (ipykernel)",
   "language": "python",
   "name": "python3"
  },
  "language_info": {
   "codemirror_mode": {
    "name": "ipython",
    "version": 3
   },
   "file_extension": ".py",
   "mimetype": "text/x-python",
   "name": "python",
   "nbconvert_exporter": "python",
   "pygments_lexer": "ipython3",
   "version": "3.10.18"
  }
 },
 "nbformat": 4,
 "nbformat_minor": 5
}
